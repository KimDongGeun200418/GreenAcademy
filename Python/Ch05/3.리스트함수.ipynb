{
 "cells": [
  {
   "cell_type": "code",
   "execution_count": 3,
   "metadata": {},
   "outputs": [],
   "source": [
    "\"\"\"\n",
    "날짜 : 2023/01/10\n",
    "이름 : 김동근\n",
    "내용 : Python 리스트함수 실습하기\n",
    "\"\"\"\n",
    "import math"
   ]
  },
  {
   "cell_type": "code",
   "execution_count": 8,
   "metadata": {},
   "outputs": [
    {
     "name": "stdout",
     "output_type": "stream",
     "text": [
      "[1, 4, 3]\n"
     ]
    }
   ],
   "source": [
    "dataset = [1,4,3]\n",
    "print(dataset)\n",
    "\n"
   ]
  },
  {
   "cell_type": "code",
   "execution_count": 9,
   "metadata": {},
   "outputs": [
    {
     "name": "stdout",
     "output_type": "stream",
     "text": [
      "[1, 4, 3, 2, 5]\n"
     ]
    }
   ],
   "source": [
    "#데이터 추가\n",
    "dataset.append(2)\n",
    "dataset.append(5)\n",
    "print(dataset)"
   ]
  },
  {
   "cell_type": "code",
   "execution_count": 11,
   "metadata": {},
   "outputs": [
    {
     "name": "stdout",
     "output_type": "stream",
     "text": [
      "[1, 2, 3, 4, 5]\n"
     ]
    }
   ],
   "source": [
    "#데이터 정렬\n",
    "dataset.sort()\n",
    "print(dataset)\n",
    "\n"
   ]
  },
  {
   "cell_type": "code",
   "execution_count": 13,
   "metadata": {},
   "outputs": [
    {
     "name": "stdout",
     "output_type": "stream",
     "text": [
      "[1, 7, 7, 6, 2, 6, 3, 4, 5]\n"
     ]
    }
   ],
   "source": [
    "#데이터 삽입\n",
    "dataset.insert(2, 6)\n",
    "dataset.insert(1, 7)\n",
    "print(dataset)\n"
   ]
  },
  {
   "cell_type": "code",
   "execution_count": 16,
   "metadata": {},
   "outputs": [
    {
     "ename": "ValueError",
     "evalue": "list.remove(x): x not in list",
     "output_type": "error",
     "traceback": [
      "\u001b[1;31m---------------------------------------------------------------------------\u001b[0m",
      "\u001b[1;31mValueError\u001b[0m                                Traceback (most recent call last)",
      "Cell \u001b[1;32mIn[16], line 3\u001b[0m\n\u001b[0;32m      1\u001b[0m \u001b[39m#데이터 삭제\u001b[39;00m\n\u001b[0;32m      2\u001b[0m \u001b[39m#값삭제\u001b[39;00m\n\u001b[1;32m----> 3\u001b[0m dataset\u001b[39m.\u001b[39;49mremove(\u001b[39m6\u001b[39;49m)\n\u001b[0;32m      4\u001b[0m \u001b[39mprint\u001b[39m(dataset)\n\u001b[0;32m      6\u001b[0m \u001b[39m#맨뒤삭제\u001b[39;00m\n",
      "\u001b[1;31mValueError\u001b[0m: list.remove(x): x not in list"
     ]
    }
   ],
   "source": [
    "#데이터 삭제\n",
    "#값삭제\n",
    "dataset.remove(6)\n",
    "print(dataset)\n",
    "\n",
    "#맨뒤삭제\n",
    "print(dataset.pop())\n",
    "print(dataset)"
   ]
  },
  {
   "cell_type": "code",
   "execution_count": 5,
   "metadata": {},
   "outputs": [
    {
     "name": "stdout",
     "output_type": "stream",
     "text": [
      "r1 : [11, 12, 13, 14, 15]\n",
      "r2 : [1, 2, 3, 4, 5]\n",
      "r1 : [11, 12, 13, 14, 15]\n",
      "r2 : [1, 2, 3, 4, 5]\n",
      "r3 : [10, 20, 30, 40, 50]\n"
     ]
    }
   ],
   "source": [
    "#map함수\n",
    "def plus(x):\n",
    "    return x + 10\n",
    "\n",
    "\n",
    "list1 = [1, 2, 3, 4, 5]\n",
    "r1 = list(map(plus, list1))\n",
    "print('r1 :', r1)\n",
    "\n",
    "list2 = [0.1, 1.2, 2.6, 3.4, 4.9]\n",
    "r2 = list(map(math.ceil, list2))\n",
    "print('r2 :', r2)\n",
    "\n",
    "list3 = ['10', '20', '30', '40', '50']\n",
    "r3 = list(map(int, list3))\n",
    "\n",
    "print('r1 :', r1)\n",
    "print('r2 :', r2)\n",
    "print('r3 :', r3)\n"
   ]
  },
  {
   "cell_type": "code",
   "execution_count": null,
   "metadata": {},
   "outputs": [],
   "source": []
  }
 ],
 "metadata": {
  "kernelspec": {
   "display_name": "Python 3",
   "language": "python",
   "name": "python3"
  },
  "language_info": {
   "codemirror_mode": {
    "name": "ipython",
    "version": 3
   },
   "file_extension": ".py",
   "mimetype": "text/x-python",
   "name": "python",
   "nbconvert_exporter": "python",
   "pygments_lexer": "ipython3",
   "version": "3.11.1 (tags/v3.11.1:a7a450f, Dec  6 2022, 19:58:39) [MSC v.1934 64 bit (AMD64)]"
  },
  "orig_nbformat": 4,
  "vscode": {
   "interpreter": {
    "hash": "ca3167030a8377a7b82d5e665b459d458267ba920e721652be188ae573e682bb"
   }
  }
 },
 "nbformat": 4,
 "nbformat_minor": 2
}
